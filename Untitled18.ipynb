{
 "cells": [
  {
   "cell_type": "code",
   "execution_count": 1,
   "id": "035574cd-9fe5-497c-a9c0-1a91de66f69e",
   "metadata": {},
   "outputs": [],
   "source": [
    "from collections import Counter"
   ]
  },
  {
   "cell_type": "code",
   "execution_count": 2,
   "id": "a0ff2166-a555-4da2-a217-75b82e2b6e43",
   "metadata": {},
   "outputs": [],
   "source": [
    "def read_docu(file):\n",
    "    \n",
    "    all_words = []\n",
    "    \n",
    "    with open(file, \"r\", encoding = \"utf-8\") as input_file:\n",
    "        for line in input_file:\n",
    "            line = line.lower()\n",
    "            line = line.strip().split()\n",
    "            all_words += line\n",
    "        return(all_words)"
   ]
  },
  {
   "cell_type": "code",
   "execution_count": 3,
   "id": "92df819b-a327-48c4-ad84-ac0056a97cf3",
   "metadata": {},
   "outputs": [],
   "source": [
    "def word_counter(all_words):\n",
    "    \n",
    "    word_count = Counter()\n",
    "    for word in all_words:\n",
    "        word_count[word] += 1\n",
    "    return(word_count.values())"
   ]
  },
  {
   "cell_type": "code",
   "execution_count": 4,
   "id": "716c276a-d4b8-4f8c-ab1c-2622ba9b4335",
   "metadata": {},
   "outputs": [],
   "source": [
    "def draw_zipfian_curve(word_count):\n",
    "    plt.plot(sorted(word_count, reverse = True), marker = \"o\")\n",
    "    plt.xscale(\"log\")\n",
    "    plt.yscale(\"log\")\n",
    "    plt.xlabel(\"log(Rank)\")\n",
    "    plt.ylabel(\"log(Frequency)\")\n",
    "    plt.show()"
   ]
  },
  {
   "cell_type": "code",
   "execution_count": 5,
   "id": "492d4ae5-1adf-44bf-b5e3-2d2c6b6353ce",
   "metadata": {},
   "outputs": [],
   "source": [
    "def zipfian_plot(file):\n",
    "    word_corpus = read_docu(file)\n",
    "    counts = word_counter(word_corpus)\n",
    "    draw_zipfian_curve(counts)"
   ]
  },
  {
   "cell_type": "code",
   "execution_count": 8,
   "id": "d5e6b946-cda6-4281-a5fc-a7f70ae0a7c1",
   "metadata": {},
   "outputs": [],
   "source": [
    " import matplotlib.pyplot as plt "
   ]
  },
  {
   "cell_type": "code",
   "execution_count": 9,
   "id": "7806c76b-f616-4481-9eed-f957882795be",
   "metadata": {},
   "outputs": [
    {
     "data": {
      "image/png": "[encoded data removed]",
      "text/plain": [
       "<Figure size 640x480 with 1 Axes>"
      ]
     },
     "metadata": {},
     "output_type": "display_data"
    }
   ],
   "source": [
    "zipfian_plot(r\"C:\\Users\\mounika1017\\Documents\\archive (5)\\train_snli.txt\")"
   ]
  },
  {
   "cell_type": "code",
   "execution_count": 12,
   "id": "36e0018e-cfa3-48f7-9a23-e7e912850460",
   "metadata": {},
   "outputs": [],
   "source": [
    "import pandas as pd"
   ]
  },
  {
   "cell_type": "code",
   "execution_count": 16,
   "id": "be5046fe-4f9a-46a7-821c-b828efa2f64e",
   "metadata": {},
   "outputs": [
    {
     "data": {
      "text/html": [
       "<div>\n",
       "<style scoped>\n",
       "    .dataframe tbody tr th:only-of-type {\n",
       "        vertical-align: middle;\n",
       "    }\n",
       "\n",
       "    .dataframe tbody tr th {\n",
       "        vertical-align: top;\n",
       "    }\n",
       "\n",
       "    .dataframe thead th {\n",
       "        text-align: right;\n",
       "    }\n",
       "</style>\n",
       "<table border=\"1\" class=\"dataframe\">\n",
       "  <thead>\n",
       "    <tr style=\"text-align: right;\">\n",
       "      <th></th>\n",
       "      <th>A person on a horse jumps over a broken down airplane.</th>\n",
       "      <th>A person is at a diner, ordering an omelette.</th>\n",
       "      <th>0</th>\n",
       "    </tr>\n",
       "  </thead>\n",
       "  <tbody>\n",
       "    <tr>\n",
       "      <th>0</th>\n",
       "      <td>A person on a horse jumps over a broken down a...</td>\n",
       "      <td>A person is outdoors, on a horse.</td>\n",
       "      <td>1</td>\n",
       "    </tr>\n",
       "    <tr>\n",
       "      <th>1</th>\n",
       "      <td>Children smiling and waving at camera</td>\n",
       "      <td>There are children present</td>\n",
       "      <td>1</td>\n",
       "    </tr>\n",
       "    <tr>\n",
       "      <th>2</th>\n",
       "      <td>Children smiling and waving at camera</td>\n",
       "      <td>The kids are frowning</td>\n",
       "      <td>0</td>\n",
       "    </tr>\n",
       "    <tr>\n",
       "      <th>3</th>\n",
       "      <td>A boy is jumping on skateboard in the middle o...</td>\n",
       "      <td>The boy skates down the sidewalk.</td>\n",
       "      <td>0</td>\n",
       "    </tr>\n",
       "    <tr>\n",
       "      <th>4</th>\n",
       "      <td>A boy is jumping on skateboard in the middle o...</td>\n",
       "      <td>The boy does a skateboarding trick.</td>\n",
       "      <td>1</td>\n",
       "    </tr>\n",
       "  </tbody>\n",
       "</table>\n",
       "</div>"
      ],
      "text/plain": [
       "  A person on a horse jumps over a broken down airplane.  \\\n",
       "0  A person on a horse jumps over a broken down a...       \n",
       "1              Children smiling and waving at camera       \n",
       "2              Children smiling and waving at camera       \n",
       "3  A boy is jumping on skateboard in the middle o...       \n",
       "4  A boy is jumping on skateboard in the middle o...       \n",
       "\n",
       "  A person is at a diner, ordering an omelette.  0  \n",
       "0             A person is outdoors, on a horse.  1  \n",
       "1                    There are children present  1  \n",
       "2                         The kids are frowning  0  \n",
       "3             The boy skates down the sidewalk.  0  \n",
       "4           The boy does a skateboarding trick.  1  "
      ]
     },
     "execution_count": 16,
     "metadata": {},
     "output_type": "execute_result"
    }
   ],
   "source": [
    "df = pd.read_csv(r\"C:\\Users\\mounika1017\\Documents\\archive (5)\\train_snli.txt\", sep='\\t', engine='python')\n",
    "df.head()"
   ]
  },
  {
   "cell_type": "code",
   "execution_count": 17,
   "id": "529de11f-6764-48f3-96a0-6e3c4546ba74",
   "metadata": {},
   "outputs": [
    {
     "data": {
      "text/plain": [
       "A person on a horse jumps over a broken down airplane.    0\n",
       "A person is at a diner, ordering an omelette.             4\n",
       "0                                                         0\n",
       "dtype: int64"
      ]
     },
     "execution_count": 17,
     "metadata": {},
     "output_type": "execute_result"
    }
   ],
   "source": [
    "df.isnull().sum()"
   ]
  },
  {
   "cell_type": "code",
   "execution_count": 18,
   "id": "5fa72fc2-1661-4ad9-be0c-51d5cce73641",
   "metadata": {},
   "outputs": [
    {
     "name": "stdout",
     "output_type": "stream",
     "text": [
      "length of text:  39\n",
      "Splitted text:  ['Two', 'blond', 'women', 'are', 'hugging', 'one', 'another']\n"
     ]
    }
   ],
   "source": [
    "text = \"Two blond women are hugging one another\"\n",
    "\n",
    "# length of text ( includes spaces)\n",
    "print(\"length of text: \",len(text))\n",
    "\n",
    "# split the text\n",
    "splitted_text = text.split() # default split methods splits text according to spaces\n",
    "print(\"Splitted text: \",splitted_text) "
   ]
  },
  {
   "cell_type": "code",
   "execution_count": 19,
   "id": "9bd2c796-7ba2-4881-a18d-9be49a0ef0ed",
   "metadata": {},
   "outputs": [
    {
     "name": "stdout",
     "output_type": "stream",
     "text": [
      "Words which are more than 3 letter:  ['Two', 'blond', 'women', 'are', 'hugging', 'one', 'another']\n",
      "Capitalized words:  ['Two']\n",
      "words end with o:  ['Two']\n",
      "words start with w:  ['women']\n"
     ]
    }
   ],
   "source": [
    "specific_words = [word for word in splitted_text if(len(word)>2)]\n",
    "print(\"Words which are more than 3 letter: \",specific_words)\n",
    "\n",
    "# capitalized words with istitle() method that finds capitalized words\n",
    "capital_words = [ word for word in splitted_text if word.istitle()]\n",
    "print(\"Capitalized words: \",capital_words)\n",
    "\n",
    "# words which end with \"o\": endswith() method finds last letter of word\n",
    "words_end_with_o =  [word for word in splitted_text if word.endswith(\"o\")]\n",
    "print(\"words end with o: \",words_end_with_o) \n",
    "\n",
    "# words which starts with \"w\": startswith() method\n",
    "words_start_with_w = [word for word in splitted_text if word.startswith(\"w\")]\n",
    "print(\"words start with w: \",words_start_with_w) "
   ]
  },
  {
   "cell_type": "code",
   "execution_count": 20,
   "id": "ff6e5ba9-9aad-4022-abca-bea2a65a9bbf",
   "metadata": {},
   "outputs": [
    {
     "name": "stdout",
     "output_type": "stream",
     "text": [
      "unique words:  {'blond', 'another', 'hugging', 'are', 'Two', 'women', 'one'}\n",
      "unique words:  {'blond', 'another', 'hugging', 'are', 'women', 'one', 'two'}\n"
     ]
    }
   ],
   "source": [
    "print(\"unique words: \",set(splitted_text))  # actually the word \"no\" is occured twice bc one word is \"no\" and others \"No\" there is a capital letter at first letter\n",
    "\n",
    "# make all letters lowercase with lower() method\n",
    "lowercase_text = [word.lower() for word in splitted_text]\n",
    "\n",
    "# then find uniques again with set() method\n",
    "print(\"unique words: \",set(lowercase_text))"
   ]
  },
  {
   "cell_type": "code",
   "execution_count": 21,
   "id": "49cd19f6-1dc7-48f1-a1ea-81d6e6a657e5",
   "metadata": {},
   "outputs": [
    {
     "name": "stdout",
     "output_type": "stream",
     "text": [
      "Is w letter in women word: True\n",
      "Is word uppercase: True\n",
      "Is word lowercase: True\n",
      "Is word made of by digits:  True\n",
      "00000000Two blond:  Two blond\n",
      "Find particular letter from back:  10\n",
      "Find particular letter from back:  10\n",
      "Replace o with 4  one anothe4\n",
      "Each letter:  ['T', 'w', 'o', ' ', 'b', 'l', 'o', 'n', 'd']\n"
     ]
    }
   ],
   "source": [
    "print(\"Is w letter in women word:\", \"w\" in \"women\")\n",
    "\n",
    "# check words are upper case or lower case\n",
    "print(\"Is word uppercase:\", \"WOMEN\".isupper())\n",
    "print(\"Is word lowercase:\", \"hugging\".islower())\n",
    "\n",
    "# check words are made of by digits or not\n",
    "print(\"Is word made of by digits: \",\"12345\".isdigit())\n",
    "\n",
    "# get rid of from white space characters like spaces and tabs or from unwanted letters with strip() method\n",
    "print(\"00000000Two blond: \",\"00000000Two blond\".strip(\"0\"))\n",
    "\n",
    "# find particular letter from front \n",
    "print(\"Find particular letter from back: \",\"one another\".find(\"r\"))  # at index 1\n",
    "\n",
    "# find particular letter from back  rfind = reverse find\n",
    "print(\"Find particular letter from back: \",\"one another\".rfind(\"r\"))  # at index 8\n",
    "\n",
    "# replace letter with number\n",
    "print(\"Replace o with 4 \", \"one another\".replace(\"r\",\"4\"))\n",
    "\n",
    "# find each letter and store them in list\n",
    "print(\"Each letter: \",list(\"Two blond\"))"
   ]
  },
  {
   "cell_type": "code",
   "execution_count": 22,
   "id": "79dcb62d-1f60-4320-b237-fcacc75d4af5",
   "metadata": {},
   "outputs": [
    {
     "name": "stdout",
     "output_type": "stream",
     "text": [
      "Split text:  ['', '', '', '', 'The', 'kids', 'are', 'frowning', '', '', '', '']\n",
      "Cleaned text:  ['The', 'kids', 'are', 'frowning']\n"
     ]
    }
   ],
   "source": [
    "text1 = \"    The kids are frowning    \"\n",
    "print(\"Split text: \",text1.split(\" \"))   # as you can see there are unnecessary white space in list\n",
    "\n",
    "# get rid of from these unnecassary white spaces with strip() method then split\n",
    "print(\"Cleaned text: \",text1.strip().split(\" \"))"
   ]
  },
  {
   "cell_type": "code",
   "execution_count": 26,
   "id": "3f1808d8-4c65-4ebc-a8b3-f8c40c28aa5c",
   "metadata": {},
   "outputs": [
    {
     "name": "stdout",
     "output_type": "stream",
     "text": [
      "A person on a horse jumps over a broken down airplane.\tA person is at a diner, ordering an omelette.\t0\n",
      "\n",
      "Length of text:  38743027\n",
      "Number of lines:  367372\n"
     ]
    }
   ],
   "source": [
    "f = open(r\"C:\\Users\\mounika1017\\Documents\\archive (5)\\train_snli.txt\")\n",
    "\n",
    "# read first line\n",
    "print(f.readline())\n",
    "\n",
    "# length of text\n",
    "text3=f.read()\n",
    "print(\"Length of text: \",len(text3))\n",
    "\n",
    "# Number of lines with splitlines() method\n",
    "lines = text3.splitlines()\n",
    "print(\"Number of lines: \",len(lines))"
   ]
  },
  {
   "cell_type": "code",
   "execution_count": 27,
   "id": "00aa6e50-6379-4920-9b4d-a0e2a4121ea0",
   "metadata": {},
   "outputs": [
    {
     "data": {
      "text/html": [
       "<div>\n",
       "<style scoped>\n",
       "    .dataframe tbody tr th:only-of-type {\n",
       "        vertical-align: middle;\n",
       "    }\n",
       "\n",
       "    .dataframe tbody tr th {\n",
       "        vertical-align: top;\n",
       "    }\n",
       "\n",
       "    .dataframe thead th {\n",
       "        text-align: right;\n",
       "    }\n",
       "</style>\n",
       "<table border=\"1\" class=\"dataframe\">\n",
       "  <thead>\n",
       "    <tr style=\"text-align: right;\">\n",
       "      <th></th>\n",
       "      <th>person</th>\n",
       "      <th>omelette</th>\n",
       "      <th>0</th>\n",
       "    </tr>\n",
       "  </thead>\n",
       "  <tbody>\n",
       "    <tr>\n",
       "      <th>0</th>\n",
       "      <td>A person on a horse jumps over a broken down a...</td>\n",
       "      <td>A person is outdoors, on a horse.</td>\n",
       "      <td>1</td>\n",
       "    </tr>\n",
       "    <tr>\n",
       "      <th>1</th>\n",
       "      <td>Children smiling and waving at camera</td>\n",
       "      <td>There are children present</td>\n",
       "      <td>1</td>\n",
       "    </tr>\n",
       "    <tr>\n",
       "      <th>2</th>\n",
       "      <td>Children smiling and waving at camera</td>\n",
       "      <td>The kids are frowning</td>\n",
       "      <td>0</td>\n",
       "    </tr>\n",
       "    <tr>\n",
       "      <th>3</th>\n",
       "      <td>A boy is jumping on skateboard in the middle o...</td>\n",
       "      <td>The boy skates down the sidewalk.</td>\n",
       "      <td>0</td>\n",
       "    </tr>\n",
       "    <tr>\n",
       "      <th>4</th>\n",
       "      <td>A boy is jumping on skateboard in the middle o...</td>\n",
       "      <td>The boy does a skateboarding trick.</td>\n",
       "      <td>1</td>\n",
       "    </tr>\n",
       "  </tbody>\n",
       "</table>\n",
       "</div>"
      ],
      "text/plain": [
       "                                              person  \\\n",
       "0  A person on a horse jumps over a broken down a...   \n",
       "1              Children smiling and waving at camera   \n",
       "2              Children smiling and waving at camera   \n",
       "3  A boy is jumping on skateboard in the middle o...   \n",
       "4  A boy is jumping on skateboard in the middle o...   \n",
       "\n",
       "                              omelette  0  \n",
       "0    A person is outdoors, on a horse.  1  \n",
       "1           There are children present  1  \n",
       "2                The kids are frowning  0  \n",
       "3    The boy skates down the sidewalk.  0  \n",
       "4  The boy does a skateboarding trick.  1  "
      ]
     },
     "execution_count": 27,
     "metadata": {},
     "output_type": "execute_result"
    }
   ],
   "source": [
    "df = df.rename(columns={'A person on a horse jumps over a broken down airplane.':'person', 'A person is at a diner, ordering an omelette.': 'omelette'})\n",
    "df.head()"
   ]
  },
  {
   "cell_type": "code",
   "execution_count": 28,
   "id": "8232e52e-23a9-403a-a851-ee6677e0135c",
   "metadata": {},
   "outputs": [
    {
     "name": "stdout",
     "output_type": "stream",
     "text": [
      "In this text, the rate of occuring boy word is:  0.07259943599403329\n",
      "Children smiling and waving at camera\n"
     ]
    }
   ],
   "source": [
    "print(\"In this text, the rate of occuring boy word is: \",sum(df.person.str.contains('boy'))/len(df))\n",
    "# text\n",
    "text = df.person[1]\n",
    "print(text)"
   ]
  },
  {
   "cell_type": "code",
   "execution_count": 29,
   "id": "17a57ba5-2630-4251-aab4-75b9abdff9a7",
   "metadata": {},
   "outputs": [
    {
     "name": "stdout",
     "output_type": "stream",
     "text": [
      "callouts:  []\n"
     ]
    }
   ],
   "source": [
    "import re\n",
    "# find callouts that starts with @\n",
    "callouts = [word for word in text.split(\" \") if re.search(\"@[A-Za-z0-9_]+\",word)]\n",
    "print(\"callouts: \",callouts)"
   ]
  },
  {
   "cell_type": "code",
   "execution_count": 30,
   "id": "f810e551-1b87-4022-a6aa-31560ccfb0f8",
   "metadata": {},
   "outputs": [
    {
     "name": "stdout",
     "output_type": "stream",
     "text": [
      "['w']\n",
      "['C', 'h', 'i', 'l', 'd', 'r', 'e', 'n', ' ', 's', 'm', 'i', 'l', 'i', 'n', 'g', ' ', 'a', 'n', 'd', ' ', 'a', 'v', 'i', 'n', 'g', ' ', 'a', 't', ' ', 'c', 'a', 'm', 'e', 'r', 'a']\n"
     ]
    }
   ],
   "source": [
    "print(re.findall(r\"[w]\",text))\n",
    "# \"w\"ith, \"w\"indo\"w\", sho\"w\"ing, s\"w\"itches \n",
    "\n",
    "# do not find specific character like \"w\". We will use \"^\" symbol\n",
    "print(re.findall(r\"[^w]\",text))"
   ]
  },
  {
   "cell_type": "code",
   "execution_count": 31,
   "id": "d3115ab4-05e2-432a-977f-0035f7ac7480",
   "metadata": {},
   "outputs": [
    {
     "name": "stdout",
     "output_type": "stream",
     "text": [
      "number of words:  6\n",
      "number of unique words:  6\n",
      "first 5 unique words:  ['smiling', 'at', 'camera', 'waving', 'Children']\n",
      "frequency of words:  <FreqDist with 6 samples and 6 outcomes>\n",
      "words in person:  dict_keys(['Children', 'smiling', 'and', 'waving', 'at', 'camera'])\n",
      "the word box is occured how many times: 0\n"
     ]
    }
   ],
   "source": [
    "import nltk as nlp\n",
    "\n",
    "# counting vocabulary of words\n",
    "text = df.person[1]\n",
    "splitted = text.split(\" \")\n",
    "print(\"number of words: \",len(splitted))\n",
    "\n",
    "# counting unique vocabulary of words\n",
    "text = df.person[1]\n",
    "print(\"number of unique words: \",len(set(splitted)))\n",
    "\n",
    "# print first five unique words\n",
    "print(\"first 5 unique words: \",list(set(splitted))[:5])\n",
    "\n",
    "# frequency of words \n",
    "dist = nlp.FreqDist(splitted)\n",
    "print(\"frequency of words: \",dist)\n",
    "\n",
    "# look at keys in dist\n",
    "print(\"words in person: \",dist.keys())\n",
    "\n",
    "# count how many time a particalar value occurs. Lets look at \"box\"\n",
    "print(\"the word box is occured how many times:\",dist[\"box\"])"
   ]
  },
  {
   "cell_type": "code",
   "execution_count": 32,
   "id": "2f1bb51a-35d8-4e1f-ac02-fb6fae09367a",
   "metadata": {},
   "outputs": [
    {
     "name": "stdout",
     "output_type": "stream",
     "text": [
      "normalized words:  ['task', 'tasked', 'tasks', 'tasking']\n",
      "roots of task Tasked tasks tasking:  ['task', 'task', 'task', 'task']\n"
     ]
    }
   ],
   "source": []
  },
  {
   "cell_type": "code",
   "execution_count": 35,
   "id": "b8eda5ce-7f6f-4b7a-be80-648cf1e2f2e1",
   "metadata": {},
   "outputs": [
    {
     "name": "stderr",
     "output_type": "stream",
     "text": [
      "[nltk_data] Downloading package wordnet to\n",
      "[nltk_data]     C:\\Users\\mounika1017\\AppData\\Roaming\\nltk_data...\n"
     ]
    },
    {
     "data": {
      "text/plain": [
       "True"
      ]
     },
     "execution_count": 35,
     "metadata": {},
     "output_type": "execute_result"
    }
   ],
   "source": [
    "import nltk\n",
    "nltk.download('wordnet')"
   ]
  },
  {
   "cell_type": "code",
   "execution_count": 36,
   "id": "2280672d-ec46-49fc-a746-0c43ad5a271e",
   "metadata": {},
   "outputs": [
    {
     "name": "stdout",
     "output_type": "stream",
     "text": [
      "result of stemming:  ['basebal', 'airplan', 'restaur', 'drink', 'outdoor']\n",
      "result of lemmatization:  ['baseball', 'airplane', 'restaurant', 'drinking', 'outdoors']\n"
     ]
    }
   ],
   "source": [
    "stemming_word_list = [\"baseball\",\"airplane\",\"restaurant\",\"drinking\",\"outdoors\"]\n",
    "porter_stemmer = nlp.PorterStemmer()\n",
    "roots = [porter_stemmer.stem(each) for each in stemming_word_list]\n",
    "print(\"result of stemming: \",roots)\n",
    "\n",
    "# lemmatization\n",
    "lemma = nlp.WordNetLemmatizer()\n",
    "lemma_roots = [lemma.lemmatize(each) for each in stemming_word_list]\n",
    "print(\"result of lemmatization: \",lemma_roots)text_t = \"Two groups of rival gang members flipped each other off.\"\n",
    "print(\"split the sentence: \", text_t.split(\" \"))  # 5 words\n",
    "\n",
    "# tokenization with nltk\n",
    "print(\"tokenize with nltk: \",nlp.word_tokenize(text_t))"
   ]
  },
  {
   "cell_type": "code",
   "execution_count": 38,
   "id": "77b228c0-9b9f-4df6-92c7-aae5a1ecc834",
   "metadata": {},
   "outputs": [
    {
     "name": "stderr",
     "output_type": "stream",
     "text": [
      "[nltk_data] Downloading package punkt to\n",
      "[nltk_data]     C:\\Users\\mounika1017\\AppData\\Roaming\\nltk_data...\n",
      "[nltk_data]   Unzipping tokenizers\\punkt.zip.\n"
     ]
    },
    {
     "data": {
      "text/plain": [
       "True"
      ]
     },
     "execution_count": 38,
     "metadata": {},
     "output_type": "execute_result"
    }
   ],
   "source": [
    "import nltk\n",
    "nltk.download('punkt')"
   ]
  },
  {
   "cell_type": "code",
   "execution_count": 39,
   "id": "b88dd705-b98a-44e2-acbe-72097e2424e9",
   "metadata": {},
   "outputs": [
    {
     "name": "stdout",
     "output_type": "stream",
     "text": [
      "split the sentence:  ['Two', 'groups', 'of', 'rival', 'gang', 'members', 'flipped', 'each', 'other', 'off.']\n",
      "tokenize with nltk:  ['Two', 'groups', 'of', 'rival', 'gang', 'members', 'flipped', 'each', 'other', 'off', '.']\n"
     ]
    }
   ],
   "source": [
    "text_t = \"Two groups of rival gang members flipped each other off.\"\n",
    "print(\"split the sentence: \", text_t.split(\" \"))  # 5 words\n",
    "\n",
    "# tokenization with nltk\n",
    "print(\"tokenize with nltk: \",nlp.word_tokenize(text_t))"
   ]
  },
  {
   "cell_type": "code",
   "execution_count": 40,
   "id": "cf148d05-f63d-48c4-b8b7-ccc3f192edba",
   "metadata": {},
   "outputs": [
    {
     "name": "stdout",
     "output_type": "stream",
     "text": [
      "['omelette']\n"
     ]
    }
   ],
   "source": [
    "categorical_nan = [feature for feature in df.columns if df[feature].isna().sum()>0 and df[feature].dtypes=='O']\n",
    "print(categorical_nan)"
   ]
  },
  {
   "cell_type": "code",
   "execution_count": 41,
   "id": "f0adddaf-fabd-4f31-91f5-f0444da3a20e",
   "metadata": {},
   "outputs": [],
   "source": [
    "for feature in categorical_nan:\n",
    "    df[feature] = df[feature].fillna('None')"
   ]
  },
  {
   "cell_type": "code",
   "execution_count": 42,
   "id": "b247e938-710f-4708-b73a-4ff9db2e7567",
   "metadata": {},
   "outputs": [
    {
     "data": {
      "text/plain": [
       "omelette    0\n",
       "dtype: int64"
      ]
     },
     "execution_count": 42,
     "metadata": {},
     "output_type": "execute_result"
    }
   ],
   "source": [
    "df[categorical_nan].isna().sum()"
   ]
  },
  {
   "cell_type": "code",
   "execution_count": null,
   "id": "2bf2c33b-1f05-4a17-bccc-e4cb99b77b02",
   "metadata": {},
   "outputs": [],
   "source": [
    "import sklearn\n",
    "print(sklearn.__version__)"
   ]
  },
  {
   "cell_type": "code",
   "execution_count": null,
   "id": "aab047f3-5983-4e09-b4a6-4908bd661812",
   "metadata": {},
   "outputs": [],
   "source": [
    "from collections import Counter\n",
    "\n",
    "count_vectorizer = CountVectorizer(max_features=max_features)\n",
    "sparce_matrix = count_vectorizer.fit_transform(review_list).toarray()\n",
    "\n",
    "feature_names = sorted(count_vectorizer.vocabulary_.keys())\n",
    "\n",
    "word_counts = Counter({word: count for word, count in count_vectorizer.vocabulary_.items()})\n",
    "\n",
    "most_common_words = [word for word, _ in word_counts.most_common(max_features)]\n",
    "\n",
    "print(\"Most used {} words: {}\".format(max_features, most_common_words))"
   ]
  },
  {
   "cell_type": "code",
   "execution_count": null,
   "id": "37a42a79-83fb-4575-8a1e-eb3a04fe0706",
   "metadata": {},
   "outputs": [],
   "source": [
    "from sklearn.model_selection import train_test_split\n",
    "\n",
    "y = df.iloc[:,0].values\n",
    "\n",
    "x_train, x_test, y_train, y_test = train_test_split(sparce_matrix, y, test_size = 0.1, random_state = 0)\n"
   ]
  },
  {
   "cell_type": "code",
   "execution_count": null,
   "id": "d114129e-aec8-4ec2-804b-41b9a0d2897d",
   "metadata": {},
   "outputs": [],
   "source": [
    "from sklearn.naive_bayes import GaussianNB\n",
    "nb = GaussianNB()\n",
    "nb.fit(sparce_matrix,y)"
   ]
  },
  {
   "cell_type": "code",
   "execution_count": null,
   "id": "79c4e580-c20b-4fd2-8617-2dcdb45b6670",
   "metadata": {},
   "outputs": [],
   "source": [
    "from sklearn.metrics import confusion_matrix"
   ]
  },
  {
   "cell_type": "code",
   "execution_count": null,
   "id": "71f84b65-4c14-4f0e-845e-30b3d6b4cf1f",
   "metadata": {},
   "outputs": [],
   "source": [
    "import matplotlib.pyplot as plt\n",
    "import seaborn as sns\n",
    "f,ax = plt.subplots(figsize=(5, 5))\n",
    "sns.heatmap(cm, annot=True, linewidths=0.5,linecolor=\"red\", fmt= '.1f',ax=ax)\n",
    "plt.show()\n",
    "plt.savefig('graph.png')"
   ]
  },
  {
   "cell_type": "code",
   "execution_count": null,
   "id": "d1178258-c976-4501-a055-2c0340e1c310",
   "metadata": {},
   "outputs": [],
   "source": []
  }
 ],
 "metadata": {
  "kernelspec": {
   "display_name": "Python 3 (ipykernel)",
   "language": "python",
   "name": "python3"
  },
  "language_info": {
   "codemirror_mode": {
    "name": "ipython",
    "version": 3
   },
   "file_extension": ".py",
   "mimetype": "text/x-python",
   "name": "python",
   "nbconvert_exporter": "python",
   "pygments_lexer": "ipython3",
   "version": "3.11.7"
  }
 },
 "nbformat": 4,
 "nbformat_minor": 5
}
